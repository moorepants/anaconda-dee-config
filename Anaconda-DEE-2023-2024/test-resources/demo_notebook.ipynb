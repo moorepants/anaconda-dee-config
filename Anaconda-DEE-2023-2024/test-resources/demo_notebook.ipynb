{
 "cells": [
  {
   "cell_type": "markdown",
   "id": "851b4c09-c8a1-4312-8414-e659b29655ec",
   "metadata": {},
   "source": [
    "# A demo Jupyter notebook"
   ]
  },
  {
   "cell_type": "markdown",
   "id": "445f02e2-4b84-4190-868f-8ff6e6e395d1",
   "metadata": {},
   "source": [
    "This Jupyter notebook is used for testing and demo purposes during the installation of the DEE for 2023. \n",
    "\n",
    "Use kernel: `Spyder_nb_env` to run and change it."
   ]
  },
  {
   "cell_type": "code",
   "execution_count": 26,
   "id": "b2f9850f-e729-4379-8132-d56ed8361e0f",
   "metadata": {
    "tags": []
   },
   "outputs": [
    {
     "name": "stdout",
     "output_type": "stream",
     "text": [
      "user: bhmgerritsen at: 2023-07-13\n"
     ]
    }
   ],
   "source": [
    "%%bash\n",
    "\n",
    "# display some info \n",
    "echo -n 'user:' $(whoami)\n",
    "echo ' at:' $(date '+%Y-%m-%d')"
   ]
  },
  {
   "cell_type": "markdown",
   "id": "752dcd6a-6f3f-4d03-9f45-82a23ded0b7d",
   "metadata": {},
   "source": [
    "---"
   ]
  },
  {
   "cell_type": "markdown",
   "id": "762d8ee0-b077-473f-81c5-07e8ad7283e5",
   "metadata": {},
   "source": [
    "Write a simple function to collect all even numbers in a given range in a list. Make the function return that list. For convenience, just assume the input range to contain integer numbers."
   ]
  },
  {
   "cell_type": "code",
   "execution_count": 27,
   "id": "693a7241-9660-4718-82bd-78ba222aa029",
   "metadata": {
    "tags": []
   },
   "outputs": [],
   "source": [
    "from collections.abc import Iterable\n",
    "\n",
    "def find_evens(interval: Iterable) -> list[int]:\n",
    "    \"\"\"Return ordered list of even integers in given range.\"\"\"\n",
    "\n",
    "    def _is_even(k: int) -> bool:\n",
    "        \"\"\"Return T|F given input k is even number.\"\"\"\n",
    "        \n",
    "        return k % 2 == 0\n",
    "    \n",
    "    assert interval, \"give a valid interval\"\n",
    "    evens: list[int] = [k for k in interval if _is_even(k)]\n",
    "    \n",
    "    return evens\n",
    "    \n",
    "    "
   ]
  },
  {
   "cell_type": "markdown",
   "id": "53cc48e8-132d-4b93-884b-d51056165199",
   "metadata": {},
   "source": [
    "---\n",
    "\n",
    "Demo the code by defining an `interval` and calling function `find_evens()`\n"
   ]
  },
  {
   "cell_type": "code",
   "execution_count": 28,
   "id": "ed879652-ea38-4139-b960-8c2400feeac8",
   "metadata": {
    "tags": [],
    "pycharm": {
     "name": "#%%\n"
    }
   },
   "outputs": [
    {
     "name": "stdout",
     "output_type": "stream",
     "text": [
      "ordered integers in range(21, 37): [22, 24, 26, 28, 30, 32, 34, 36]\n"
     ]
    }
   ],
   "source": [
    "# run in a demo\n",
    "interval: Iterable = range(21, 37)\n",
    "\n",
    "print(f\"ordered integers in {interval}: {find_evens(interval)}\")"
   ]
  }
 ],
 "metadata": {
  "kernelspec": {
   "name": "python3",
   "language": "python",
   "display_name": "Python 3 (ipykernel)"
  },
  "language_info": {
   "codemirror_mode": {
    "name": "ipython",
    "version": 3
   },
   "file_extension": ".py",
   "mimetype": "text/x-python",
   "name": "python",
   "nbconvert_exporter": "python",
   "pygments_lexer": "ipython3",
   "version": "3.11.4"
  }
 },
 "nbformat": 4,
 "nbformat_minor": 5
}